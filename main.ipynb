{
 "cells": [
  {
   "cell_type": "code",
   "execution_count": 1,
   "id": "fbefcf87-a9fe-488d-b6c0-63c0ae9876a5",
   "metadata": {},
   "outputs": [],
   "source": [
    "import google.generativeai as genai\n",
    "import os\n",
    "from PyPDF2 import PdfReader\n",
    "from API_KEY import Apı_key\n",
    "import json "
   ]
  },
  {
   "cell_type": "code",
   "execution_count": 2,
   "id": "8bff0bb2-d03b-4577-bbf9-d86aa3b63743",
   "metadata": {},
   "outputs": [],
   "source": [
    "os.environ[\"GOOGLE_API_KEY\"] = Apı_key\n",
    "genai.configure(api_key=os.environ[\"GOOGLE_API_KEY\"])"
   ]
  },
  {
   "cell_type": "code",
   "execution_count": 3,
   "id": "b2d3ee1f-7531-4010-a302-7d4914ec3902",
   "metadata": {},
   "outputs": [
    {
     "name": "stdout",
     "output_type": "stream",
     "text": [
      "models/gemini-1.0-pro-latest\n",
      "models/gemini-1.0-pro\n",
      "models/gemini-pro\n",
      "models/gemini-1.0-pro-001\n",
      "models/gemini-1.0-pro-vision-latest\n",
      "models/gemini-pro-vision\n",
      "models/gemini-1.5-pro-latest\n",
      "models/gemini-1.5-pro-001\n",
      "models/gemini-1.5-pro-002\n",
      "models/gemini-1.5-pro\n",
      "models/gemini-1.5-pro-exp-0801\n",
      "models/gemini-1.5-pro-exp-0827\n",
      "models/gemini-1.5-flash-latest\n",
      "models/gemini-1.5-flash-001\n",
      "models/gemini-1.5-flash-001-tuning\n",
      "models/gemini-1.5-flash\n",
      "models/gemini-1.5-flash-exp-0827\n",
      "models/gemini-1.5-flash-002\n",
      "models/gemini-1.5-flash-8b\n",
      "models/gemini-1.5-flash-8b-001\n",
      "models/gemini-1.5-flash-8b-latest\n",
      "models/gemini-1.5-flash-8b-exp-0827\n",
      "models/gemini-1.5-flash-8b-exp-0924\n",
      "models/learnlm-1.5-pro-experimental\n",
      "models/gemini-exp-1114\n",
      "models/gemini-exp-1121\n",
      "models/gemini-exp-1206\n"
     ]
    }
   ],
   "source": [
    "for m in genai.list_models():\n",
    "    if \"generateContent\" in m.supported_generation_methods:\n",
    "        print(m.name)"
   ]
  },
  {
   "cell_type": "code",
   "execution_count": 4,
   "id": "a9227728-f6f8-47ef-834f-7950d8bccb9d",
   "metadata": {},
   "outputs": [],
   "source": [
    "model = genai.GenerativeModel(\"models/gemini-1.5-pro\")"
   ]
  },
  {
   "cell_type": "code",
   "execution_count": 5,
   "id": "3d51aef2-e63c-48d8-a244-0ec0dd0de8ed",
   "metadata": {},
   "outputs": [],
   "source": [
    "def resumes_details(resume):\n",
    "    prompt=f\"\"\"\n",
    "    Assume that you are a resume parse assistant. Given the fallowing resume text, extract all the important details and retunr them in a well-structured JSON format.\n",
    "\n",
    "    The resume text:\n",
    "    {resume}\n",
    "\n",
    "    Extract and include the following:\n",
    "    -Full Name\n",
    "    -Contanct Number\n",
    "    -Email Adress\n",
    "    -Location\n",
    "    -Education\n",
    "    -Skills(Technical and non-Technical)\n",
    "    -Certification\n",
    "    -Work Experience\n",
    "    -Languages Spoken\n",
    "    -Recomended Job Roles(based on the cadicate's skills and experience)\n",
    "    If any of this category is empty, then return it as a Null\n",
    "\n",
    "    Return the response in JSON format.\n",
    "    \"\"\"\n",
    "    response = model.generate_content(prompt).text\n",
    "    response = response.replace(\"```json\",\"\").replace(\"```\",\"\").strip()\n",
    "    return response"
   ]
  },
  {
   "cell_type": "code",
   "execution_count": 6,
   "id": "13d505de-67af-4ab8-9e94-e4aa8ad857cb",
   "metadata": {},
   "outputs": [],
   "source": [
    "cv_2=\"\"\"Name: Jane Doe\n",
    "Email: jane.doe@example.com\n",
    "Phone: +1 555-987-6543\n",
    "LinkedIn: linkedin.com/in/janedoe\n",
    "GitHub: github.com/janedoe\n",
    "\n",
    "Professional Summary\n",
    "Motivated recent graduate with a Master’s degree in Data Science. Hands-on experience in data analysis and machine learning projects. Proficient in Python, SQL, and data visualization.\n",
    "\n",
    "Skills\n",
    "Programming: Python, SQL, R\n",
    "Data Analysis: Pandas, NumPy, Scikit-learn\n",
    "Visualization: Tableau, Seaborn\n",
    "Tools: Jupyter, Git\n",
    "Experience\n",
    "Data Science Intern\n",
    "Bright Analytics | June 2023 – Dec 2023\n",
    "\n",
    "Built a recommendation system using collaborative filtering techniques.\n",
    "Cleaned and preprocessed large datasets for machine learning pipelines.\n",
    "Visualized key metrics using Tableau to present findings to stakeholders.\n",
    "Research Assistant\n",
    "University of Chicago | 2022 – 2023\n",
    "\n",
    "Conducted data analysis for social science research projects.\n",
    "Automated data collection processes using Python.\n",
    "Education\n",
    "M.Sc. in Data Science – University of Chicago (2023)\n",
    "B.Sc. in Statistics – University of Illinois (2021)\"\"\""
   ]
  },
  {
   "cell_type": "code",
   "execution_count": 7,
   "id": "fbf7c5d7-862a-4c42-bcc6-c1e7db6c19fb",
   "metadata": {},
   "outputs": [
    {
     "data": {
      "text/plain": [
       "{'Full Name': 'Jane Doe',\n",
       " 'Contact Number': '+1 555-987-6543',\n",
       " 'Email Address': 'jane.doe@example.com',\n",
       " 'Location': None,\n",
       " 'Education': [{'Degree': 'M.Sc. in Data Science',\n",
       "   'University': 'University of Chicago',\n",
       "   'Year': 2023},\n",
       "  {'Degree': 'B.Sc. in Statistics',\n",
       "   'University': 'University of Illinois',\n",
       "   'Year': 2021}],\n",
       " 'Skills': {'Technical': ['Python',\n",
       "   'SQL',\n",
       "   'R',\n",
       "   'Pandas',\n",
       "   'NumPy',\n",
       "   'Scikit-learn',\n",
       "   'Tableau',\n",
       "   'Seaborn',\n",
       "   'Jupyter',\n",
       "   'Git'],\n",
       "  'Non-Technical': []},\n",
       " 'Certifications': None,\n",
       " 'Work Experience': [{'Title': 'Data Science Intern',\n",
       "   'Company': 'Bright Analytics',\n",
       "   'StartDate': 'June 2023',\n",
       "   'EndDate': 'Dec 2023',\n",
       "   'Responsibilities': ['Built a recommendation system using collaborative filtering techniques.',\n",
       "    'Cleaned and preprocessed large datasets for machine learning pipelines.',\n",
       "    'Visualized key metrics using Tableau to present findings to stakeholders.']},\n",
       "  {'Title': 'Research Assistant',\n",
       "   'Company': 'University of Chicago',\n",
       "   'StartDate': '2022',\n",
       "   'EndDate': '2023',\n",
       "   'Responsibilities': ['Conducted data analysis for social science research projects.',\n",
       "    'Automated data collection processes using Python.']}],\n",
       " 'Languages Spoken': None,\n",
       " 'Recommended Job Roles': ['Data Scientist',\n",
       "  'Machine Learning Engineer',\n",
       "  'Data Analyst',\n",
       "  'Business Intelligence Analyst']}"
      ]
     },
     "execution_count": 7,
     "metadata": {},
     "output_type": "execute_result"
    }
   ],
   "source": [
    "response = resumes_details(cv_2)\n",
    "data = json.loads(response)\n",
    "data"
   ]
  }
 ],
 "metadata": {
  "kernelspec": {
   "display_name": "Python 3 (ipykernel)",
   "language": "python",
   "name": "python3"
  },
  "language_info": {
   "codemirror_mode": {
    "name": "ipython",
    "version": 3
   },
   "file_extension": ".py",
   "mimetype": "text/x-python",
   "name": "python",
   "nbconvert_exporter": "python",
   "pygments_lexer": "ipython3",
   "version": "3.10.15"
  }
 },
 "nbformat": 4,
 "nbformat_minor": 5
}
